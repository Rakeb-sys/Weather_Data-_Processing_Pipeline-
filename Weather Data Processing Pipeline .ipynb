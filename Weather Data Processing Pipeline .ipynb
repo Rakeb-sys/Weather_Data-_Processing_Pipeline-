import pandas as pd
import numpy as np
import matplotlib.pyplot as plt

# Load the data
df = pd.read_csv('weather_data.csv')

#Replace missing temperature_celsius values with the average temperature for that city
df['temperature_celsius'] = df.groupby('city')['temperature_celsius'].transform(lambda x: x.fillna(x.mean()))

# Drop rows with missing values of date column
df = df.dropna(subset=['date'])

#convert date column into YYYY-MM-DD format
df['date'] = pd.to_datetime(df['date'], format='mixed')

#converting temperature_celsius to temperature_fahrenheit and store it in new column
df['temperature_fahrenheit'] = df['temperature_celsius'] * 9/5 + 32

# Drop rows where 'Weather' is null
df = df.dropna(subset=['weather_condition'])

# Drop rows where 'Weather' is 'Unknown'
df_cleaned = df[df['weather_condition'] != 'Unknown']

#print the first rows for instance
print(df_cleaned)

#grouping city using average of temprature
grouped_data = df.groupby('city')['temperature_celsius'].mean()

#plot bar chart of average temperature per city using Matplotlib
grouped_data.plot(kind = 'bar', x = 'city', y = 'temperature_celsius')
plt.title('Average Temperature per City')
plt.xlabel('City')
plt.ylabel('Temprature in Celicius')
plt.show()

#save cleaned data as tranformed_weather_data.csv
df_cleaned.to_csv('tranformed_weather_data.csv')

# Calculate average temperature per city
avg_temp_per_city = df_cleaned.groupby('city')['temperature_celsius'].mean()

# Generate the text report
report_lines = ["Top 5 Cities with Highest Average Temperature (°C):\n"]
for city, temp in top_5_cities.items():
    report_lines.append(f"{city}: {temp:.2f} °C")
    print(f"{city}: {temp:.2f} °C")

# Write to TXT file
with open('top_5_cities_temperature_report.txt', 'w') as f:
    f.write('\n'.join(report_lines))

print("top_5_cities_temperature_report.txt")
